{
 "cells": [
  {
   "cell_type": "code",
   "execution_count": null,
   "id": "5e8674cb-9261-43c6-853c-63aafe7ade83",
   "metadata": {},
   "outputs": [],
   "source": [
    "from P2 import *\n",
    "import numpy as np\n",
    "import os, math, time, argparse\n",
    "import matplotlib.pyplot as plt\n",
    "from sklearn.neighbors import KNeighborsClassifier as KNN\n",
    "from sklearn.metrics import ConfusionMatrixDisplay, confusion_matrix\n",
    "from sklearn.discriminant_analysis import LinearDiscriminantAnalysis"
   ]
  },
  {
   "cell_type": "code",
   "execution_count": null,
   "id": "47b97afc-1aec-4702-9b37-70fa385b5f4b",
   "metadata": {},
   "outputs": [],
   "source": [
    "data, labels, sub_info, form_names, feat_names  = load_dataset(data_path = \"P2/data\")\n",
    "num_subs = len(np.unique(sub_info[:, 0]))\n",
    "num_feats = data.shape[1]\n",
    "num_forms = len(form_names) + 1\n",
    "filter_feat_count = 100"
   ]
  },
  {
   "cell_type": "code",
   "execution_count": null,
   "id": "b4e05e2a-51f9-456b-9b6f-1077d1811535",
   "metadata": {},
   "outputs": [],
   "source": [
    "sub_train_acc = np.zeros(num_subs)\n",
    "sub_class_train = np.zeros((num_subs, num_forms))\n",
    "sub_test_acc = np.zeros(num_subs)\n",
    "sub_class_test = np.zeros((num_subs, num_forms))\n",
    "overall_train_mat = np.zeros((num_forms, 1))\n",
    "overall_test_mat = np.zeros((num_forms, 1))"
   ]
  },
  {
   "cell_type": "code",
   "execution_count": null,
   "id": "602e3914-c425-4bb6-9a67-51eee7834b07",
   "metadata": {},
   "outputs": [],
   "source": [
    "train_data, train_label, test_data, test_label = split_data(data, labels, sub_info, 1)\n",
    "train_data, train_min, train_max = normalize_data(train_data)\n",
    "test_data, test_min, test_max = normalize_data(test_data)"
   ]
  },
  {
   "cell_type": "code",
   "execution_count": null,
   "id": "1140030f-ad45-4d9d-8aa8-d5d3bb72242a",
   "metadata": {},
   "outputs": [],
   "source": [
    "def filter_method(train_data, train_labels):\n",
    "    scores = np.zeros(train_data.shape[1])\n",
    "    train_label_unique = np.unique(train_labels)\n",
    "    for feature in range(train_data.shape[1]):\n",
    "        sum_per_label_var = 0\n",
    "        var_feature = np.var(train_data[:, feature])\n",
    "        for label in train_label_unique:\n",
    "            train_label_list = train_data[:,feature][train_labels == label]\n",
    "            train_label_var = np.var(train_label_list)\n",
    "            sum_per_label_var+=train_label_var\n",
    "        complete_sum_label = sum_per_label_var/len(train_label_unique)\n",
    "        if complete_sum_label!=0:\n",
    "            scores[feature] = var_feature/complete_sum_label\n",
    "    selected_inds = np.argsort(scores)[::-1]\n",
    "    return selected_inds, scores"
   ]
  },
  {
   "cell_type": "code",
   "execution_count": null,
   "id": "d545796b-480d-4354-83f1-39887749324c",
   "metadata": {},
   "outputs": [],
   "source": [
    "sc, scr = filter_method(train_data, train_label)"
   ]
  },
  {
   "cell_type": "code",
   "execution_count": null,
   "id": "fba3c49b-3308-4ebb-aa63-be04ebe1b4f4",
   "metadata": {},
   "outputs": [],
   "source": [
    "train_data = train_data[:, sc[:100]]\n",
    "test_data = test_data[:, sc[:100]]"
   ]
  },
  {
   "cell_type": "code",
   "execution_count": null,
   "id": "bdcd7931-87e3-4e92-9a1f-cfae9442645b",
   "metadata": {},
   "outputs": [],
   "source": [
    "selected_inds = np.array([], dtype = np.int16)\n",
    "model = LinearDiscriminantAnalysis()\n",
    "value = 0.8\n",
    "for i in range(train_data.shape[1]):\n",
    "    local_score = 0\n",
    "    temp = 0\n",
    "    for j in range(train_data.shape[1]):\n",
    "        # if local_score>value:\n",
    "        #     return selected_inds\n",
    "        if j in selected_inds:\n",
    "            continue\n",
    "        t_d = np.hstack((train_data[:, selected_inds], train_data[:, j].reshape(-1, 1)))\n",
    "        model.labels_ = np.unique(train_label)\n",
    "        model.fit(t_d, train_label)\n",
    "        sub_pred_train = model.predict(t_d)\n",
    "        train_acc = np.sum(sub_pred_train == train_label) / len(train_label)\n",
    "        if train_acc > local_score:\n",
    "            temp = j\n",
    "            local_score = train_acc\n",
    "        selected_inds = np.append(selected_inds, temp)"
   ]
  }
 ],
 "metadata": {
  "kernelspec": {
   "display_name": "Python 3 (ipykernel)",
   "language": "python",
   "name": "python3"
  },
  "language_info": {
   "codemirror_mode": {
    "name": "ipython",
    "version": 3
   },
   "file_extension": ".py",
   "mimetype": "text/x-python",
   "name": "python",
   "nbconvert_exporter": "python",
   "pygments_lexer": "ipython3",
   "version": "3.9.13"
  }
 },
 "nbformat": 4,
 "nbformat_minor": 5
}
