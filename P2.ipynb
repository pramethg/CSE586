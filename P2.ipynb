{
 "cells": [
  {
   "cell_type": "code",
   "execution_count": null,
   "id": "5e8674cb-9261-43c6-853c-63aafe7ade83",
   "metadata": {},
   "outputs": [],
   "source": [
    "from P2 import *\n",
    "import numpy as np\n",
    "import os, math, time, argparse\n",
    "import matplotlib.pyplot as plt\n",
    "from sklearn.neighbors import KNeighborsClassifier as KNN\n",
    "from sklearn.metrics import ConfusionMatrixDisplay, confusion_matrix"
   ]
  },
  {
   "cell_type": "code",
   "execution_count": null,
   "id": "47b97afc-1aec-4702-9b37-70fa385b5f4b",
   "metadata": {},
   "outputs": [],
   "source": [
    "data, labels, sub_info, form_names, feat_names  = load_dataset(data_path = \"P2/data\")\n",
    "num_subs = len(np.unique(sub_info[:, 0])) + 1\n",
    "num_feats = data.shape[1]\n",
    "num_forms = len(form_names) + 1\n",
    "filter_feat_count = 100"
   ]
  },
  {
   "cell_type": "code",
   "execution_count": null,
   "id": "b4e05e2a-51f9-456b-9b6f-1077d1811535",
   "metadata": {},
   "outputs": [],
   "source": [
    "sub_train_acc = np.zeros(num_subs)\n",
    "sub_class_train = np.zeros((num_subs, num_forms))\n",
    "sub_test_acc = np.zeros(num_subs)\n",
    "sub_class_test = np.zeros((num_subs, num_forms))\n",
    "overall_train_mat = np.zeros((num_forms, 1))\n",
    "overall_test_mat = np.zeros((num_forms, 1))"
   ]
  },
  {
   "cell_type": "code",
   "execution_count": null,
   "id": "602e3914-c425-4bb6-9a67-51eee7834b07",
   "metadata": {},
   "outputs": [],
   "source": [
    "train_data, train_label, test_data, test_label = split_data(data, labels, sub_info, 10)\n",
    "train_data, train_min, train_max = normalize_data(train_data)\n",
    "test_data, test_min, test_max = normalize_data(test_data)"
   ]
  }
 ],
 "metadata": {
  "kernelspec": {
   "display_name": "Python 3 (ipykernel)",
   "language": "python",
   "name": "python3"
  },
  "language_info": {
   "codemirror_mode": {
    "name": "ipython",
    "version": 3
   },
   "file_extension": ".py",
   "mimetype": "text/x-python",
   "name": "python",
   "nbconvert_exporter": "python",
   "pygments_lexer": "ipython3",
   "version": "3.9.13"
  }
 },
 "nbformat": 4,
 "nbformat_minor": 5
}
