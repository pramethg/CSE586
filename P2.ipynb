{
 "cells": [
  {
   "cell_type": "code",
   "execution_count": null,
   "id": "5e8674cb-9261-43c6-853c-63aafe7ade83",
   "metadata": {},
   "outputs": [],
   "source": [
    "from P2 import *\n",
    "import numpy as np\n",
    "import os, math, time, argparse\n",
    "import matplotlib.pyplot as plt\n",
    "from sklearn.neighbors import KNeighborsClassifier as KNN\n",
    "from sklearn.metrics import ConfusionMatrixDisplay, confusion_matrix"
   ]
  },
  {
   "cell_type": "code",
   "execution_count": null,
   "id": "47b97afc-1aec-4702-9b37-70fa385b5f4b",
   "metadata": {},
   "outputs": [],
   "source": [
    "data, labels, sub_info, form_names, feat_names  = load_dataset(data_path = \"P2/data\")\n",
    "num_subs = len(np.unique(sub_info[:, 0]))\n",
    "num_feats = data.shape[1]\n",
    "num_forms = len(form_names) + 1\n",
    "filter_feat_count = 100"
   ]
  },
  {
   "cell_type": "code",
   "execution_count": null,
   "id": "b4e05e2a-51f9-456b-9b6f-1077d1811535",
   "metadata": {},
   "outputs": [],
   "source": [
    "sub_train_acc = np.zeros(num_subs)\n",
    "sub_class_train = np.zeros((num_subs, num_forms))\n",
    "sub_test_acc = np.zeros(num_subs)\n",
    "sub_class_test = np.zeros((num_subs, num_forms))\n",
    "overall_train_mat = np.zeros((num_forms, 1))\n",
    "overall_test_mat = np.zeros((num_forms, 1))"
   ]
  },
  {
   "cell_type": "code",
   "execution_count": null,
   "id": "602e3914-c425-4bb6-9a67-51eee7834b07",
   "metadata": {},
   "outputs": [],
   "source": [
    "train_data, train_label, test_data, test_label = split_data(data, labels, sub_info, 1)\n",
    "train_data, train_min, train_max = normalize_data(train_data)\n",
    "test_data, test_min, test_max = normalize_data(test_data)"
   ]
  },
  {
   "cell_type": "code",
   "execution_count": null,
   "id": "e968e871-9f8d-473f-8e54-3eb5fb06d6c1",
   "metadata": {},
   "outputs": [],
   "source": [
    "train_data.shape"
   ]
  },
  {
   "cell_type": "code",
   "execution_count": null,
   "id": "1140030f-ad45-4d9d-8aa8-d5d3bb72242a",
   "metadata": {},
   "outputs": [],
   "source": [
    "def filter_method(train_data, train_labels):\n",
    "    scores = np.zeros(train_data.shape[1])\n",
    "    train_label_unique = np.unique(train_labels)\n",
    "    for feature in range(train_data.shape[1]):\n",
    "        sum_per_label_var = 0\n",
    "        var_feature = np.var(train_data[:, feature])\n",
    "        for label in train_label_unique:\n",
    "            train_label_list = train_data[:,feature][train_labels == label]\n",
    "            train_label_var = np.var(train_label_list)\n",
    "            sum_per_label_var+=train_label_var\n",
    "        complete_sum_label = sum_per_label_var/len(train_label_unique)\n",
    "        if complete_sum_label!=0:\n",
    "            scores[feature] = var_feature/complete_sum_label\n",
    "    selected_inds = np.argsort(scores)[::-1]\n",
    "    return selected_inds, scores"
   ]
  },
  {
   "cell_type": "code",
   "execution_count": null,
   "id": "d545796b-480d-4354-83f1-39887749324c",
   "metadata": {},
   "outputs": [],
   "source": [
    "sc, scr = filter_method(train_data, train_label)"
   ]
  }
 ],
 "metadata": {
  "kernelspec": {
   "display_name": "Python 3 (ipykernel)",
   "language": "python",
   "name": "python3"
  },
  "language_info": {
   "codemirror_mode": {
    "name": "ipython",
    "version": 3
   },
   "file_extension": ".py",
   "mimetype": "text/x-python",
   "name": "python",
   "nbconvert_exporter": "python",
   "pygments_lexer": "ipython3",
   "version": "3.9.13"
  }
 },
 "nbformat": 4,
 "nbformat_minor": 5
}
